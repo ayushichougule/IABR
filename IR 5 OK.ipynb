{
 "cells": [
  {
   "cell_type": "code",
   "execution_count": 2,
   "id": "36345589-d921-4566-a1c9-e2e1896bea7a",
   "metadata": {},
   "outputs": [
    {
     "name": "stdin",
     "output_type": "stream",
     "text": [
      "Enter item you want?\n",
      "1) dining-kitchen\n",
      "2) bags-accessories\n",
      "3) watches\n",
      " watches\n"
     ]
    },
    {
     "name": "stdout",
     "output_type": "stream",
     "text": [
      "Sale Price: ₹ 2,000 | Product name: Chumbak Smartwatch - Wilderness | Link: https://www.chumbak.com/products/chumbak-smartwatch-wilderness\n",
      "Sale Price: ₹ 2,000 | Product name: Chumbak Smartwatch - Rainforest | Link: https://www.chumbak.com/products/chumbak-smartwatch-rainforest\n",
      "Sale Price: ₹ 2,000 | Product name: Chumbak Smartwatch for Women- Mosaic | Link: https://www.chumbak.com/products/chumbak-smartwatch-for-women\n",
      "Sale Price: ₹ 2,000 | Product name: Chumbak Smartwatch - Bloom | Link: https://www.chumbak.com/products/chumbak-smartwatch-bloom\n",
      "Total count: 179\n",
      "Select count: 4\n",
      "Page count: 2\n"
     ]
    }
   ],
   "source": [
    "import requests\n",
    "from bs4 import BeautifulSoup\n",
    "import re\n",
    "\n",
    "item = input(\"Enter item you want?\\n1) dining-kitchen\\n2) bags-accessories\\n3) watches\\n\")\n",
    "\n",
    "url = f\"https://www.chumbak.com/collections/{item}\"\n",
    "res = requests.get(url).text\n",
    "doc = BeautifulSoup(res, \"html.parser\")\n",
    "total_count = 0\n",
    "select_count = 0\n",
    "page_count = 0\n",
    "\n",
    "# Find all product-card elements\n",
    "page_text = doc.find(class_=\"pagination\")\n",
    "if page_text:\n",
    "    precise = page_text.findAll('a', class_='pagination__link')\n",
    "    if precise:\n",
    "        max_page = 0\n",
    "        for link in precise:\n",
    "            page_number = link.text.strip()\n",
    "            if page_number:  # Check if the extracted text is not empty\n",
    "                val = int(page_number)\n",
    "                if val > max_page:\n",
    "                    max_page = val\n",
    "        for page in range(1, max_page + 1):\n",
    "            page_count += 1\n",
    "            url = f\"https://www.chumbak.com/collections/{item}?page={page}\"\n",
    "            res = requests.get(url).text\n",
    "            doc = BeautifulSoup(res, \"html.parser\")\n",
    "            products = doc.find_all(class_=\"product-card\")\n",
    "            for product in products:\n",
    "                # Extract product name\n",
    "                product_name_element = product.find(class_=\"product-title\")\n",
    "                if product_name_element:\n",
    "                    product_name = product_name_element.text.strip()\n",
    "                    total_count += 1\n",
    "\n",
    "                # Extract sale price\n",
    "                sale_price_element = product.find(string=re.compile(\"₹ 2,000\"))\n",
    "                if sale_price_element:\n",
    "                    sale_price = sale_price_element.strip()\n",
    "                    select_count += 1\n",
    "\n",
    "                    # Extract product link\n",
    "                    product_link_element = product.find('a', href=True)\n",
    "                    if product_link_element:\n",
    "                        product_link = \"https://www.chumbak.com\" + product_link_element['href']\n",
    "                    else:\n",
    "                        product_link = \"Link not available\"\n",
    "\n",
    "                    # Print product details\n",
    "                    print(f\"Sale Price: {sale_price} | Product name: {product_name} | Link: {product_link}\")\n",
    "\n",
    "print(\"Total count:\", total_count)\n",
    "print(\"Select count:\", select_count)\n",
    "print(\"Page count:\", page_count)\n",
    "\n",
    "\n",
    "\n",
    "#we can also use -> sale_price_element.parent  ->sale_price_element.find_parent(\"enter name\")\n",
    "#https://www.youtube.com/watch?v=zAEfWiC_KBU"
   ]
  },
  {
   "cell_type": "code",
   "execution_count": null,
   "id": "f796f3c6-6dbc-4e19-8c5d-7abee042a887",
   "metadata": {},
   "outputs": [],
   "source": []
  }
 ],
 "metadata": {
  "kernelspec": {
   "display_name": "Python 3 (ipykernel)",
   "language": "python",
   "name": "python3"
  },
  "language_info": {
   "codemirror_mode": {
    "name": "ipython",
    "version": 3
   },
   "file_extension": ".py",
   "mimetype": "text/x-python",
   "name": "python",
   "nbconvert_exporter": "python",
   "pygments_lexer": "ipython3",
   "version": "3.11.4"
  }
 },
 "nbformat": 4,
 "nbformat_minor": 5
}
