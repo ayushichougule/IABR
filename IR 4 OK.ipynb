{
 "cells": [
  {
   "cell_type": "code",
   "execution_count": 6,
   "id": "9c2b24ba-b161-4149-8243-b5c05477462d",
   "metadata": {},
   "outputs": [
    {
     "name": "stdout",
     "output_type": "stream",
     "text": [
      "Page A has rank: 0.3751\n",
      "Page B has rank: 0.1949\n",
      "Page C has rank: 0.3925\n",
      "Page D has rank: 0.0375\n"
     ]
    }
   ],
   "source": [
    "import numpy as np\n",
    "\n",
    "# Define a simple web graph with 4 pages and their links\n",
    "web_graph = {\n",
    "    'A': ['B', 'C'],\n",
    "    'B': ['C'],\n",
    "    'C': ['A'],\n",
    "    'D': ['C']\n",
    "}\n",
    "\n",
    "def initialize_ranks(graph):\n",
    "    num_pages = len(graph)\n",
    "    ranks = {page: 1 / num_pages for page in graph}\n",
    "    return ranks\n",
    "\n",
    "def distribute_ranks(graph, ranks, d=0.85, iterations=10):\n",
    "    num_pages = len(graph)\n",
    "    for _ in range(iterations):\n",
    "        new_ranks = {}\n",
    "        for page in graph:\n",
    "            new_rank = (1 - d) / num_pages  # Base rank (damping factor)\n",
    "            for other_page in graph:\n",
    "                if page in graph[other_page]:  # Check if other_page links to the current page\n",
    "                    new_rank += d * (ranks[other_page] / len(graph[other_page]))\n",
    "            new_ranks[page] = new_rank\n",
    "        ranks = new_ranks\n",
    "    return ranks\n",
    "\n",
    "def pagerank(graph):\n",
    "    ranks = initialize_ranks(graph)  # Initialize ranks\n",
    "    final_ranks = distribute_ranks(graph, ranks)  # Distribute ranks over iterations\n",
    "    return final_ranks\n",
    "\n",
    "ranks = pagerank(web_graph)\n",
    "for page, rank in ranks.items():\n",
    "    print(f\"Page {page} has rank: {rank:.4f}\")\n"
   ]
  },
  {
   "cell_type": "code",
   "execution_count": null,
   "id": "43ef3b33-943f-4d32-bc08-a5b635208636",
   "metadata": {},
   "outputs": [],
   "source": []
  }
 ],
 "metadata": {
  "kernelspec": {
   "display_name": "Python 3 (ipykernel)",
   "language": "python",
   "name": "python3"
  },
  "language_info": {
   "codemirror_mode": {
    "name": "ipython",
    "version": 3
   },
   "file_extension": ".py",
   "mimetype": "text/x-python",
   "name": "python",
   "nbconvert_exporter": "python",
   "pygments_lexer": "ipython3",
   "version": "3.11.4"
  }
 },
 "nbformat": 4,
 "nbformat_minor": 5
}
